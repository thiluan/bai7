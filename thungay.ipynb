{
 "cells": [
  {
   "cell_type": "code",
   "execution_count": 1,
   "id": "1e765a58",
   "metadata": {},
   "outputs": [
    {
     "ename": "SyntaxError",
     "evalue": "invalid syntax (<ipython-input-1-8c06636d1ccc>, line 11)",
     "output_type": "error",
     "traceback": [
      "\u001b[1;36m  File \u001b[1;32m\"<ipython-input-1-8c06636d1ccc>\"\u001b[1;36m, line \u001b[1;32m11\u001b[0m\n\u001b[1;33m    x=input(\"Nhập một số bất kỳ: (from 1 to 7)\")1\u001b[0m\n\u001b[1;37m                                                ^\u001b[0m\n\u001b[1;31mSyntaxError\u001b[0m\u001b[1;31m:\u001b[0m invalid syntax\n"
     ]
    }
   ],
   "source": [
    "#Viết chương trình yêu cầu người dùng nhập một số trong phạm vi từ 1 đến 7. Sau đó hãy in ra ngày tương ứng: \n",
    "#1: Monday\n",
    "#2: Tuesday\n",
    "#3: Wednesday\n",
    "#4: Thursday\n",
    "#5: Friday\n",
    "#6: Saturday\n",
    "#7: Sunday\n",
    "#Nếu người dùng nhập số ngoài phạm vi từ 1 đến 7 thì hãy in ra “error, out of range”.\n",
    "# Cách giải quyết:\n",
    "x=int(input(\"Nhập một số bất kỳ: (from 1 to 7)\"))\n",
    "if x==1:\n",
    "    print(\"monday\")\n",
    "elif x==2:\n",
    "    print(\"tuesday\")\n",
    "elif x==3:\n",
    "    print(\"wednesday\")\n",
    "elif x==4:\n",
    "    print(\"thursday\")\n",
    "elif x==5:\n",
    "    print(\"friday\")\n",
    "elif x==6:\n",
    "    print(\"saturday\")\n",
    "elif x==7:\n",
    "    print(\"sunday\")\n",
    "else:\n",
    "    print(\"\")\n",
    "\n"
   ]
  },
  {
   "cell_type": "code",
   "execution_count": null,
   "id": "1e5b3e81",
   "metadata": {},
   "outputs": [],
   "source": []
  }
 ],
 "metadata": {
  "kernelspec": {
   "display_name": "Python 3",
   "language": "python",
   "name": "python3"
  },
  "language_info": {
   "codemirror_mode": {
    "name": "ipython",
    "version": 3
   },
   "file_extension": ".py",
   "mimetype": "text/x-python",
   "name": "python",
   "nbconvert_exporter": "python",
   "pygments_lexer": "ipython3",
   "version": "3.8.8"
  }
 },
 "nbformat": 4,
 "nbformat_minor": 5
}
