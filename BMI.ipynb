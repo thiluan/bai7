{
 "cells": [
  {
   "cell_type": "code",
   "execution_count": 1,
   "id": "46a07813",
   "metadata": {},
   "outputs": [
    {
     "name": "stdout",
     "output_type": "stream",
     "text": [
      "Nhập cân nặng của bạn: 51\n",
      "Nhập chiều cao của bạn: 1.62\n",
      "Bình thường\n"
     ]
    }
   ],
   "source": [
    "w=int(input(\"Nhập cân nặng của bạn: \"))\n",
    "h=float(input(\"Nhập chiều cao của bạn: \"))\n",
    "BMI=w/(h**2)\n",
    "if BMI>=40:\n",
    "    print(\"Béo phì cấp độ III\")\n",
    "elif BMI>=35:\n",
    "    print(\"Béo phì cấp độ II\")\n",
    "elif BMI>=30:\n",
    "    print(\"Béo phì cấp độ I\")\n",
    "elif BMI>=25:\n",
    "    print(\"Thừa cân\")\n",
    "elif BMI>=18.5:\n",
    "    print(\"Bình thường\")\n",
    "elif BMI>=17:\n",
    "    print(\"Gầy cấp độ I\")\n",
    "elif BMI>=16:\n",
    "    print(\"Gầy cấp độ II\")\n",
    "else:\n",
    "    print(\"Gầy cấp độ III\")"
   ]
  },
  {
   "cell_type": "code",
   "execution_count": null,
   "id": "7788986c",
   "metadata": {},
   "outputs": [],
   "source": []
  }
 ],
 "metadata": {
  "kernelspec": {
   "display_name": "Python 3",
   "language": "python",
   "name": "python3"
  },
  "language_info": {
   "codemirror_mode": {
    "name": "ipython",
    "version": 3
   },
   "file_extension": ".py",
   "mimetype": "text/x-python",
   "name": "python",
   "nbconvert_exporter": "python",
   "pygments_lexer": "ipython3",
   "version": "3.8.8"
  }
 },
 "nbformat": 4,
 "nbformat_minor": 5
}
