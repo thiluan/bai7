{
 "cells": [
  {
   "cell_type": "code",
   "execution_count": 1,
   "id": "be0c1d07",
   "metadata": {},
   "outputs": [
    {
     "name": "stdout",
     "output_type": "stream",
     "text": [
      "circle và square, Hình mà bạn muốn vẽ là: tam giác\n",
      "Màu bạn chọn là gi?, yellow, red or blue: pink\n",
      "xin lỗi, tôi không có hình này\n"
     ]
    }
   ],
   "source": [
    "import turtle\n",
    "shape=input(\"circle và square, Hình mà bạn muốn vẽ là: \")\n",
    "color=input(\"Màu bạn chọn là gi?, yellow, red or blue: \") \n",
    "if shape==\"circle\" or shape==\"square\":\n",
    "    if color==\"yellow\" or color==\"red\" or color==\"blue\":\n",
    "        sc=turtle.Screen()\n",
    "        sc.bgcolor(\"black\")\n",
    "        \n",
    "        t=turtle.Turtle()\n",
    "        t.shape(shape)\n",
    "        t.color(color)\n",
    "    else:\n",
    "        print(\"xin lỗi, tôi không có màu này!\")\n",
    "else:\n",
    "    print(\"xin lỗi, tôi không có hình này\")\n",
    "       "
   ]
  },
  {
   "cell_type": "code",
   "execution_count": null,
   "id": "849f2db6",
   "metadata": {},
   "outputs": [],
   "source": []
  }
 ],
 "metadata": {
  "kernelspec": {
   "display_name": "Python 3",
   "language": "python",
   "name": "python3"
  }
 },
 "nbformat": 4,
 "nbformat_minor": 5
}
