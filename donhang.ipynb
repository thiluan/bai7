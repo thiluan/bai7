{
 "cells": [
  {
   "cell_type": "code",
   "execution_count": 1,
   "id": "1172f29a",
   "metadata": {},
   "outputs": [
    {
     "name": "stdout",
     "output_type": "stream",
     "text": [
      "Nhập số tiền khách hàng đã chi: 125\n",
      "số tiền khách hàng trả sau khi giảm 25% là: 31.25usd\n"
     ]
    }
   ],
   "source": [
    "x=float(input(\"Nhập số tiền khách hàng đã chi: \"))\n",
    "y=x*50/100\n",
    "z=x*25/100\n",
    "a=x*15/100\n",
    "if x>=150:\n",
    "    print(\"Số tiền khách hàng trả sau khi giảm 50% là: \" + str(y) + \"usd\")\n",
    "elif 100<=x<150:\n",
    "    print(\"số tiền khách hàng trả sau khi giảm 25% là: \" + str(z) + \"usd\")\n",
    "elif 75<=x<100:\n",
    "    print(\"số tiền khách hàng trả sau khi giảm 15% là: \"+ str(a) + \"usd\")\n",
    "else:\n",
    "    pr"
   ]
  },
  {
   "cell_type": "code",
   "execution_count": 4,
   "id": "b019a9c7",
   "metadata": {},
   "outputs": [
    {
     "name": "stdout",
     "output_type": "stream",
     "text": [
      "Give me a price: 150\n",
      "Total:  100\n"
     ]
    }
   ],
   "source": [
    "num = int(input(\"Give me a price: \"))\n",
    "if num >= 150:\n",
    "    print(\"Total: \", num - 50)\n",
    "elif num >= 100:\n",
    "    print(\"Total: \", num - 25)\n",
    "elif num >= 75:\n",
    "    print(\"Total: \", num - 15)\n",
    "else:\n",
    "    print(\"Total: \", num)"
   ]
  },
  {
   "cell_type": "code",
   "execution_count": 6,
   "id": "5b9d6773",
   "metadata": {},
   "outputs": [
    {
     "name": "stdout",
     "output_type": "stream",
     "text": [
      "Nhập số tiền khách hàng đã chi: 150\n",
      "Số tiền khách hàng trả sau khi giảm 50% là:  75.0usd\n"
     ]
    }
   ],
   "source": [
    "x=float(input(\"Nhập số tiền khách hàng đã chi: \"))\n",
    "if x>=150:\n",
    "    print(\"Số tiền khách hàng trả sau khi giảm 50% là: \" , str(x*50/100) + \"usd\")"
   ]
  },
  {
   "cell_type": "code",
   "execution_count": null,
   "id": "9f420411",
   "metadata": {},
   "outputs": [],
   "source": []
  }
 ],
 "metadata": {
  "kernelspec": {
   "display_name": "Python 3",
   "language": "python",
   "name": "python3"
  },
  "language_info": {
   "codemirror_mode": {
    "name": "ipython",
    "version": 3
   },
   "file_extension": ".py",
   "mimetype": "text/x-python",
   "name": "python",
   "nbconvert_exporter": "python",
   "pygments_lexer": "ipython3",
   "version": "3.8.8"
  }
 },
 "nbformat": 4,
 "nbformat_minor": 5
}
