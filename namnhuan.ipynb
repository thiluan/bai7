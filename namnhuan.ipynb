{
 "cells": [
  {
   "cell_type": "code",
   "execution_count": 3,
   "id": "771a5898",
   "metadata": {},
   "outputs": [
    {
     "name": "stdout",
     "output_type": "stream",
     "text": [
      "Nhập một số bất kì: 2000\n",
      "Năm nhuận\n"
     ]
    }
   ],
   "source": [
    "#Viết một chương trình cho phép người dùng nhập vào một số nguyên dương và kiểm tra số đó có là năm nhuận hay không.\n",
    "#Năm nhuận là:\n",
    "#Năm chia hết cho 4 nhưng không chia hết cho 100.\n",
    "#Hoặc năm chia hết cho 400.\n",
    "#Ví dụ: 1800 không phải năm nhuận, 2000 là năm nhuận.\n",
    "num=int(input(\"Nhập một số bất kì: \"))\n",
    "if num%400==0:\n",
    "    print(\"Năm nhuận\")\n",
    "else:\n",
    "    print(\"Không là năm nhuận\")"
   ]
  },
  {
   "cell_type": "code",
   "execution_count": 1,
   "id": "2c90e92d",
   "metadata": {},
   "outputs": [
    {
     "name": "stdout",
     "output_type": "stream",
     "text": [
      "Nhập một số bất kì: 2000\n",
      "Không là năm nhuận\n"
     ]
    }
   ],
   "source": [
    "num=int(input(\"Nhập một số bất kì: \"))\n",
    "if num%4==0 and num%100==1:\n",
    "    print(\"Năm nhuận\")\n",
    "else:\n",
    "    print(\"Không là năm nhuận\")"
   ]
  },
  {
   "cell_type": "code",
   "execution_count": null,
   "id": "daeb35a1",
   "metadata": {},
   "outputs": [],
   "source": []
  }
 ],
 "metadata": {
  "kernelspec": {
   "display_name": "Python 3",
   "language": "python",
   "name": "python3"
  },
  "language_info": {
   "codemirror_mode": {
    "name": "ipython",
    "version": 3
   },
   "file_extension": ".py",
   "mimetype": "text/x-python",
   "name": "python",
   "nbconvert_exporter": "python",
   "pygments_lexer": "ipython3",
   "version": "3.8.8"
  }
 },
 "nbformat": 4,
 "nbformat_minor": 5
}
