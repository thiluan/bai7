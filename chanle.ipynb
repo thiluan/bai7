{
 "cells": [
  {
   "cell_type": "code",
   "execution_count": 2,
   "id": "d1cb0a3a",
   "metadata": {},
   "outputs": [
    {
     "name": "stdout",
     "output_type": "stream",
     "text": [
      "Nhập một số bất kì: 12.5\n",
      "không phải số tự nhiên\n"
     ]
    }
   ],
   "source": [
    "x=float(input(\"Nhập một số bất kì: \"))\n",
    "if x%2==0:\n",
    "    print(\"số chẵn\")\n",
    "elif x%2==1:\n",
    "    print(\"số lẻ\")\n",
    "else:\n",
    "    print(\"không phải số tự nhiên\")\n",
    "    \n",
    "    \n",
    "    "
   ]
  },
  {
   "cell_type": "code",
   "execution_count": null,
   "id": "567a8c5e",
   "metadata": {},
   "outputs": [],
   "source": []
  }
 ],
 "metadata": {
  "kernelspec": {
   "display_name": "Python 3",
   "language": "python",
   "name": "python3"
  },
  "language_info": {
   "codemirror_mode": {
    "name": "ipython",
    "version": 3
   },
   "file_extension": ".py",
   "mimetype": "text/x-python",
   "name": "python",
   "nbconvert_exporter": "python",
   "pygments_lexer": "ipython3",
   "version": "3.8.8"
  }
 },
 "nbformat": 4,
 "nbformat_minor": 5
}
